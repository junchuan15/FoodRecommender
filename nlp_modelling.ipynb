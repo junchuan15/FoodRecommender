{
 "cells": [
  {
   "cell_type": "code",
   "execution_count": 43,
   "metadata": {},
   "outputs": [],
   "source": [
    "import nltk\n",
    "from nltk.tokenize import RegexpTokenizer\n",
    "from nltk.probability import FreqDist\n",
    "from nltk.stem import PorterStemmer\n",
    "from nltk.corpus import stopwords\n",
    "from wordcloud import WordCloud\n",
    "from sklearn.metrics.pairwise import cosine_similarity\n",
    "from sklearn.feature_extraction.text import CountVectorizer\n",
    "import pandas as pd\n",
    "import matplotlib.pyplot as plt\n",
    "import numpy as np\n",
    "import string\n",
    "import re\n",
    "from nltk.corpus import wordnet\n",
    "from sklearn.metrics import precision_score, recall_score, f1_score, accuracy_score, confusion_matrix\n",
    "from sklearn.decomposition import TruncatedSVD\n",
    "from sklearn.model_selection import train_test_split\n",
    "from nltk.classify import NaiveBayesClassifier\n",
    "from nltk.sentiment import SentimentIntensityAnalyzer"
   ]
  },
  {
   "cell_type": "code",
   "execution_count": 44,
   "metadata": {},
   "outputs": [],
   "source": [
    "TA_df = pd.read_csv(\"data/TripAdvisor_data_cleaned.csv\")\n",
    "GG_df = pd.read_csv(\"data/GoogleReview_data_cleaned.csv\")"
   ]
  },
  {
   "cell_type": "code",
   "execution_count": 45,
   "metadata": {},
   "outputs": [
    {
     "data": {
      "text/html": [
       "<div>\n",
       "<style scoped>\n",
       "    .dataframe tbody tr th:only-of-type {\n",
       "        vertical-align: middle;\n",
       "    }\n",
       "\n",
       "    .dataframe tbody tr th {\n",
       "        vertical-align: top;\n",
       "    }\n",
       "\n",
       "    .dataframe thead th {\n",
       "        text-align: right;\n",
       "    }\n",
       "</style>\n",
       "<table border=\"1\" class=\"dataframe\">\n",
       "  <thead>\n",
       "    <tr style=\"text-align: right;\">\n",
       "      <th></th>\n",
       "      <th>Author</th>\n",
       "      <th>Title</th>\n",
       "      <th>Review</th>\n",
       "      <th>Rating</th>\n",
       "      <th>Dates</th>\n",
       "      <th>Restaurant</th>\n",
       "      <th>Location</th>\n",
       "    </tr>\n",
       "  </thead>\n",
       "  <tbody>\n",
       "    <tr>\n",
       "      <th>0</th>\n",
       "      <td>kmc1e2018</td>\n",
       "      <td>Chambers Bar and Grill</td>\n",
       "      <td>David, Thanga, Mikail and Chef Steven gave bri...</td>\n",
       "      <td>5.0</td>\n",
       "      <td>Reviewed yesterday</td>\n",
       "      <td>Chambers Grill</td>\n",
       "      <td>KL</td>\n",
       "    </tr>\n",
       "    <tr>\n",
       "      <th>1</th>\n",
       "      <td>MizOthmanKuala Lumpur, Malaysia</td>\n",
       "      <td>Always a pleasure. Place to celebrate.</td>\n",
       "      <td>We visited for family celebration and as usual...</td>\n",
       "      <td>5.0</td>\n",
       "      <td>Reviewed 5 days ago</td>\n",
       "      <td>Chambers Grill</td>\n",
       "      <td>KL</td>\n",
       "    </tr>\n",
       "    <tr>\n",
       "      <th>2</th>\n",
       "      <td>Relax36268533224Hjarno, Denmark</td>\n",
       "      <td>Enjoying good service and good food after a lo...</td>\n",
       "      <td>Perfect dinner after a long journey.After trav...</td>\n",
       "      <td>5.0</td>\n",
       "      <td>Reviewed 1 week ago</td>\n",
       "      <td>Chambers Grill</td>\n",
       "      <td>KL</td>\n",
       "    </tr>\n",
       "    <tr>\n",
       "      <th>3</th>\n",
       "      <td>tstrry</td>\n",
       "      <td>Great Steak for Couples</td>\n",
       "      <td>Had a great Tomahawk for me and hubby thanks t...</td>\n",
       "      <td>5.0</td>\n",
       "      <td>Reviewed 1 week ago</td>\n",
       "      <td>Chambers Grill</td>\n",
       "      <td>KL</td>\n",
       "    </tr>\n",
       "    <tr>\n",
       "      <th>4</th>\n",
       "      <td>Naim_123456789</td>\n",
       "      <td>Dining</td>\n",
       "      <td>Excellent ambient. Excellent service by David,...</td>\n",
       "      <td>5.0</td>\n",
       "      <td>Reviewed 1 week ago</td>\n",
       "      <td>Chambers Grill</td>\n",
       "      <td>KL</td>\n",
       "    </tr>\n",
       "  </tbody>\n",
       "</table>\n",
       "</div>"
      ],
      "text/plain": [
       "                            Author  \\\n",
       "0                        kmc1e2018   \n",
       "1  MizOthmanKuala Lumpur, Malaysia   \n",
       "2  Relax36268533224Hjarno, Denmark   \n",
       "3                           tstrry   \n",
       "4                   Naim_123456789   \n",
       "\n",
       "                                               Title  \\\n",
       "0                             Chambers Bar and Grill   \n",
       "1             Always a pleasure. Place to celebrate.   \n",
       "2  Enjoying good service and good food after a lo...   \n",
       "3                            Great Steak for Couples   \n",
       "4                                             Dining   \n",
       "\n",
       "                                              Review  Rating  \\\n",
       "0  David, Thanga, Mikail and Chef Steven gave bri...     5.0   \n",
       "1  We visited for family celebration and as usual...     5.0   \n",
       "2  Perfect dinner after a long journey.After trav...     5.0   \n",
       "3  Had a great Tomahawk for me and hubby thanks t...     5.0   \n",
       "4  Excellent ambient. Excellent service by David,...     5.0   \n",
       "\n",
       "                  Dates      Restaurant Location  \n",
       "0   Reviewed yesterday   Chambers Grill       KL  \n",
       "1  Reviewed 5 days ago   Chambers Grill       KL  \n",
       "2  Reviewed 1 week ago   Chambers Grill       KL  \n",
       "3  Reviewed 1 week ago   Chambers Grill       KL  \n",
       "4  Reviewed 1 week ago   Chambers Grill       KL  "
      ]
     },
     "execution_count": 45,
     "metadata": {},
     "output_type": "execute_result"
    }
   ],
   "source": [
    "TA_df.head()"
   ]
  },
  {
   "cell_type": "code",
   "execution_count": 46,
   "metadata": {},
   "outputs": [
    {
     "data": {
      "text/html": [
       "<div>\n",
       "<style scoped>\n",
       "    .dataframe tbody tr th:only-of-type {\n",
       "        vertical-align: middle;\n",
       "    }\n",
       "\n",
       "    .dataframe tbody tr th {\n",
       "        vertical-align: top;\n",
       "    }\n",
       "\n",
       "    .dataframe thead th {\n",
       "        text-align: right;\n",
       "    }\n",
       "</style>\n",
       "<table border=\"1\" class=\"dataframe\">\n",
       "  <thead>\n",
       "    <tr style=\"text-align: right;\">\n",
       "      <th></th>\n",
       "      <th>Author</th>\n",
       "      <th>Rating</th>\n",
       "      <th>Review</th>\n",
       "      <th>Restaurant</th>\n",
       "      <th>Location</th>\n",
       "    </tr>\n",
       "  </thead>\n",
       "  <tbody>\n",
       "    <tr>\n",
       "      <th>0</th>\n",
       "      <td>Jia Pin Lee</td>\n",
       "      <td>4.0</td>\n",
       "      <td>Came here for the High Tea. Great service espe...</td>\n",
       "      <td>Cuisines Restaurant</td>\n",
       "      <td>Ipoh</td>\n",
       "    </tr>\n",
       "    <tr>\n",
       "      <th>1</th>\n",
       "      <td>Chui Yi Lum</td>\n",
       "      <td>2.0</td>\n",
       "      <td>5 stars for the service, even though some of t...</td>\n",
       "      <td>Cuisines Restaurant</td>\n",
       "      <td>Ipoh</td>\n",
       "    </tr>\n",
       "    <tr>\n",
       "      <th>2</th>\n",
       "      <td>liezel wong</td>\n",
       "      <td>1.0</td>\n",
       "      <td>Hi, thank you for your service. But! i feel so...</td>\n",
       "      <td>Cuisines Restaurant</td>\n",
       "      <td>Ipoh</td>\n",
       "    </tr>\n",
       "    <tr>\n",
       "      <th>3</th>\n",
       "      <td>Nazri Nor</td>\n",
       "      <td>1.0</td>\n",
       "      <td>I have the worse buffer dinner ever so far. Th...</td>\n",
       "      <td>Cuisines Restaurant</td>\n",
       "      <td>Ipoh</td>\n",
       "    </tr>\n",
       "    <tr>\n",
       "      <th>4</th>\n",
       "      <td>Fakru Imran's Channel</td>\n",
       "      <td>5.0</td>\n",
       "      <td>That's are Known 5 Elmark \" 9H72 \" &amp; KDK \" 3 K...</td>\n",
       "      <td>Cuisines Restaurant</td>\n",
       "      <td>Ipoh</td>\n",
       "    </tr>\n",
       "  </tbody>\n",
       "</table>\n",
       "</div>"
      ],
      "text/plain": [
       "                  Author  Rating  \\\n",
       "0            Jia Pin Lee     4.0   \n",
       "1            Chui Yi Lum     2.0   \n",
       "2            liezel wong     1.0   \n",
       "3              Nazri Nor     1.0   \n",
       "4  Fakru Imran's Channel     5.0   \n",
       "\n",
       "                                              Review           Restaurant  \\\n",
       "0  Came here for the High Tea. Great service espe...  Cuisines Restaurant   \n",
       "1  5 stars for the service, even though some of t...  Cuisines Restaurant   \n",
       "2  Hi, thank you for your service. But! i feel so...  Cuisines Restaurant   \n",
       "3  I have the worse buffer dinner ever so far. Th...  Cuisines Restaurant   \n",
       "4  That's are Known 5 Elmark \" 9H72 \" & KDK \" 3 K...  Cuisines Restaurant   \n",
       "\n",
       "  Location  \n",
       "0     Ipoh  \n",
       "1     Ipoh  \n",
       "2     Ipoh  \n",
       "3     Ipoh  \n",
       "4     Ipoh  "
      ]
     },
     "execution_count": 46,
     "metadata": {},
     "output_type": "execute_result"
    }
   ],
   "source": [
    "GG_df.head()"
   ]
  },
  {
   "cell_type": "code",
   "execution_count": 47,
   "metadata": {},
   "outputs": [],
   "source": [
    "TA_df.drop(columns=['Author', 'Dates', 'Title'], inplace=True)\n",
    "GG_df.drop(columns=['Author'], inplace=True)"
   ]
  },
  {
   "cell_type": "code",
   "execution_count": 48,
   "metadata": {},
   "outputs": [],
   "source": [
    "df = pd.concat([TA_df, GG_df], ignore_index=True)"
   ]
  },
  {
   "cell_type": "code",
   "execution_count": 50,
   "metadata": {},
   "outputs": [
    {
     "data": {
      "text/html": [
       "<div>\n",
       "<style scoped>\n",
       "    .dataframe tbody tr th:only-of-type {\n",
       "        vertical-align: middle;\n",
       "    }\n",
       "\n",
       "    .dataframe tbody tr th {\n",
       "        vertical-align: top;\n",
       "    }\n",
       "\n",
       "    .dataframe thead th {\n",
       "        text-align: right;\n",
       "    }\n",
       "</style>\n",
       "<table border=\"1\" class=\"dataframe\">\n",
       "  <thead>\n",
       "    <tr style=\"text-align: right;\">\n",
       "      <th></th>\n",
       "      <th>Review</th>\n",
       "      <th>Rating</th>\n",
       "      <th>Restaurant</th>\n",
       "      <th>Location</th>\n",
       "    </tr>\n",
       "  </thead>\n",
       "  <tbody>\n",
       "    <tr>\n",
       "      <th>0</th>\n",
       "      <td>David, Thanga, Mikail and Chef Steven gave bri...</td>\n",
       "      <td>5.0</td>\n",
       "      <td>Chambers Grill</td>\n",
       "      <td>KL</td>\n",
       "    </tr>\n",
       "    <tr>\n",
       "      <th>1</th>\n",
       "      <td>We visited for family celebration and as usual...</td>\n",
       "      <td>5.0</td>\n",
       "      <td>Chambers Grill</td>\n",
       "      <td>KL</td>\n",
       "    </tr>\n",
       "    <tr>\n",
       "      <th>2</th>\n",
       "      <td>Perfect dinner after a long journey.After trav...</td>\n",
       "      <td>5.0</td>\n",
       "      <td>Chambers Grill</td>\n",
       "      <td>KL</td>\n",
       "    </tr>\n",
       "    <tr>\n",
       "      <th>3</th>\n",
       "      <td>Had a great Tomahawk for me and hubby thanks t...</td>\n",
       "      <td>5.0</td>\n",
       "      <td>Chambers Grill</td>\n",
       "      <td>KL</td>\n",
       "    </tr>\n",
       "    <tr>\n",
       "      <th>4</th>\n",
       "      <td>Excellent ambient. Excellent service by David,...</td>\n",
       "      <td>5.0</td>\n",
       "      <td>Chambers Grill</td>\n",
       "      <td>KL</td>\n",
       "    </tr>\n",
       "  </tbody>\n",
       "</table>\n",
       "</div>"
      ],
      "text/plain": [
       "                                              Review  Rating      Restaurant  \\\n",
       "0  David, Thanga, Mikail and Chef Steven gave bri...     5.0  Chambers Grill   \n",
       "1  We visited for family celebration and as usual...     5.0  Chambers Grill   \n",
       "2  Perfect dinner after a long journey.After trav...     5.0  Chambers Grill   \n",
       "3  Had a great Tomahawk for me and hubby thanks t...     5.0  Chambers Grill   \n",
       "4  Excellent ambient. Excellent service by David,...     5.0  Chambers Grill   \n",
       "\n",
       "  Location  \n",
       "0       KL  \n",
       "1       KL  \n",
       "2       KL  \n",
       "3       KL  \n",
       "4       KL  "
      ]
     },
     "execution_count": 50,
     "metadata": {},
     "output_type": "execute_result"
    }
   ],
   "source": [
    "df.head()"
   ]
  },
  {
   "cell_type": "code",
   "execution_count": 52,
   "metadata": {},
   "outputs": [
    {
     "data": {
      "text/plain": [
       "(361784, 4)"
      ]
     },
     "execution_count": 52,
     "metadata": {},
     "output_type": "execute_result"
    }
   ],
   "source": [
    "df.shape"
   ]
  },
  {
   "cell_type": "code",
   "execution_count": 53,
   "metadata": {},
   "outputs": [
    {
     "name": "stdout",
     "output_type": "stream",
     "text": [
      "Total unique restaurants: 3515\n",
      "Total unique location: 10\n"
     ]
    }
   ],
   "source": [
    "print('Total unique restaurants: '+str(len(df['Restaurant'].unique())))\n",
    "print('Total unique location: '+str(len(df['Location'].unique())))\n"
   ]
  }
 ],
 "metadata": {
  "kernelspec": {
   "display_name": "Python 3",
   "language": "python",
   "name": "python3"
  },
  "language_info": {
   "codemirror_mode": {
    "name": "ipython",
    "version": 3
   },
   "file_extension": ".py",
   "mimetype": "text/x-python",
   "name": "python",
   "nbconvert_exporter": "python",
   "pygments_lexer": "ipython3",
   "version": "3.10.5"
  }
 },
 "nbformat": 4,
 "nbformat_minor": 2
}
